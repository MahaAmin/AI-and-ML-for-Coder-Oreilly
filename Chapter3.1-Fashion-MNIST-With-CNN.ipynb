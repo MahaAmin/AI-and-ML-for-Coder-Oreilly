{
 "cells": [
  {
   "cell_type": "markdown",
   "id": "5b4ea173",
   "metadata": {},
   "source": [
    "# AI and ML for Coders"
   ]
  },
  {
   "cell_type": "markdown",
   "id": "83661fe4",
   "metadata": {},
   "source": [
    "## Chapter-3: Going Beyond the Basics - Detecting Features In Images"
   ]
  },
  {
   "cell_type": "markdown",
   "id": "684ea84d",
   "metadata": {},
   "source": [
    "### Fashion MNIST With CNN (Convolutional Neural Network)"
   ]
  },
  {
   "cell_type": "code",
   "execution_count": 2,
   "id": "933e4a43",
   "metadata": {},
   "outputs": [
    {
     "name": "stderr",
     "output_type": "stream",
     "text": [
      "2022-04-11 03:10:00.871274: W tensorflow/stream_executor/platform/default/dso_loader.cc:64] Could not load dynamic library 'libcudart.so.11.0'; dlerror: libcudart.so.11.0: cannot open shared object file: No such file or directory\n",
      "2022-04-11 03:10:00.871429: I tensorflow/stream_executor/cuda/cudart_stub.cc:29] Ignore above cudart dlerror if you do not have a GPU set up on your machine.\n"
     ]
    }
   ],
   "source": [
    "import tensorflow as tf"
   ]
  },
  {
   "cell_type": "code",
   "execution_count": 9,
   "id": "1623943a",
   "metadata": {},
   "outputs": [],
   "source": [
    "# loading Fashion MINST dataset\n",
    "data = tf.keras.datasets.fashion_mnist\n",
    "\n",
    "(training_images, training_labels), (test_images, test_labels) = data.load_data()"
   ]
  },
  {
   "cell_type": "code",
   "execution_count": 10,
   "id": "c6c9b192",
   "metadata": {},
   "outputs": [
    {
     "data": {
      "text/plain": [
       "(60000, 28, 28)"
      ]
     },
     "execution_count": 10,
     "metadata": {},
     "output_type": "execute_result"
    }
   ],
   "source": [
    "training_images.shape"
   ]
  },
  {
   "cell_type": "code",
   "execution_count": 13,
   "id": "8e19b1c2",
   "metadata": {},
   "outputs": [],
   "source": [
    "# reshaping images to match Conv2D (the extra dimension is the color channel: 1 for greyscale 3 for RGB\n",
    "# and normalizing them\n",
    "training_images = training_images.reshape(60000, 28, 28, 1)\n",
    "training_images = training_images / 255.0\n",
    "\n",
    "test_images = test_images.reshape(10000, 28, 28, 1)\n",
    "test_images = test_images / 255.0"
   ]
  },
  {
   "cell_type": "code",
   "execution_count": 14,
   "id": "4b208a07",
   "metadata": {},
   "outputs": [
    {
     "name": "stderr",
     "output_type": "stream",
     "text": [
      "2022-04-11 04:00:29.051949: W tensorflow/stream_executor/platform/default/dso_loader.cc:64] Could not load dynamic library 'libcuda.so.1'; dlerror: libcuda.so.1: cannot open shared object file: No such file or directory\n",
      "2022-04-11 04:00:29.051985: W tensorflow/stream_executor/cuda/cuda_driver.cc:269] failed call to cuInit: UNKNOWN ERROR (303)\n",
      "2022-04-11 04:00:29.052011: I tensorflow/stream_executor/cuda/cuda_diagnostics.cc:156] kernel driver does not appear to be running on this host (maha): /proc/driver/nvidia/version does not exist\n",
      "2022-04-11 04:00:29.052367: I tensorflow/core/platform/cpu_feature_guard.cc:151] This TensorFlow binary is optimized with oneAPI Deep Neural Network Library (oneDNN) to use the following CPU instructions in performance-critical operations:  AVX2 FMA\n",
      "To enable them in other operations, rebuild TensorFlow with the appropriate compiler flags.\n"
     ]
    }
   ],
   "source": [
    "# define the neural network\n",
    "model = tf.keras.models.Sequential([\n",
    "    tf.keras.layers.Conv2D(64, (3,3), activation='relu', input_shape=(28, 28, 1)),\n",
    "    tf.keras.layers.MaxPooling2D(2, 2),\n",
    "    tf.keras.layers.Conv2D(64, (3, 3), activation='relu'),\n",
    "    tf.keras.layers.MaxPooling2D(2,2),\n",
    "    tf.keras.layers.Flatten(),\n",
    "    tf.keras.layers.Dense(128, activation=tf.nn.relu),\n",
    "    tf.keras.layers.Dense(10, activation=tf.nn.softmax)\n",
    "])"
   ]
  },
  {
   "cell_type": "code",
   "execution_count": 15,
   "id": "c259ae81",
   "metadata": {},
   "outputs": [],
   "source": [
    "# compile the model\n",
    "model.compile(optimizer='adam',\n",
    "             loss='sparse_categorical_crossentropy', \n",
    "             metrics=['accuracy'])"
   ]
  },
  {
   "cell_type": "code",
   "execution_count": 16,
   "id": "c80b48a9",
   "metadata": {},
   "outputs": [
    {
     "name": "stderr",
     "output_type": "stream",
     "text": [
      "2022-04-11 04:02:14.034444: W tensorflow/core/framework/cpu_allocator_impl.cc:82] Allocation of 188160000 exceeds 10% of free system memory.\n"
     ]
    },
    {
     "name": "stdout",
     "output_type": "stream",
     "text": [
      "Epoch 1/50\n",
      "1875/1875 [==============================] - 79s 42ms/step - loss: 0.4381 - accuracy: 0.8411\n",
      "Epoch 2/50\n",
      "1875/1875 [==============================] - 73s 39ms/step - loss: 0.2954 - accuracy: 0.8902\n",
      "Epoch 3/50\n",
      "1875/1875 [==============================] - 87s 46ms/step - loss: 0.2493 - accuracy: 0.9079\n",
      "Epoch 4/50\n",
      "1875/1875 [==============================] - 82s 44ms/step - loss: 0.2181 - accuracy: 0.9180\n",
      "Epoch 5/50\n",
      "1875/1875 [==============================] - 56s 30ms/step - loss: 0.1903 - accuracy: 0.9290\n",
      "Epoch 6/50\n",
      "1875/1875 [==============================] - 56s 30ms/step - loss: 0.1684 - accuracy: 0.9362\n",
      "Epoch 7/50\n",
      "1875/1875 [==============================] - 55s 30ms/step - loss: 0.1459 - accuracy: 0.9457\n",
      "Epoch 8/50\n",
      "1875/1875 [==============================] - 56s 30ms/step - loss: 0.1290 - accuracy: 0.9518\n",
      "Epoch 9/50\n",
      "1875/1875 [==============================] - 56s 30ms/step - loss: 0.1126 - accuracy: 0.9581\n",
      "Epoch 10/50\n",
      "1875/1875 [==============================] - 56s 30ms/step - loss: 0.1004 - accuracy: 0.9614\n",
      "Epoch 11/50\n",
      "1875/1875 [==============================] - 56s 30ms/step - loss: 0.0877 - accuracy: 0.9676\n",
      "Epoch 12/50\n",
      "1875/1875 [==============================] - 56s 30ms/step - loss: 0.0769 - accuracy: 0.9711\n",
      "Epoch 13/50\n",
      "1875/1875 [==============================] - 56s 30ms/step - loss: 0.0691 - accuracy: 0.9733\n",
      "Epoch 14/50\n",
      "1875/1875 [==============================] - 55s 30ms/step - loss: 0.0634 - accuracy: 0.9758\n",
      "Epoch 15/50\n",
      "1875/1875 [==============================] - 56s 30ms/step - loss: 0.0535 - accuracy: 0.9798\n",
      "Epoch 16/50\n",
      "1875/1875 [==============================] - 56s 30ms/step - loss: 0.0497 - accuracy: 0.9817\n",
      "Epoch 17/50\n",
      "1875/1875 [==============================] - 56s 30ms/step - loss: 0.0469 - accuracy: 0.9821\n",
      "Epoch 18/50\n",
      "1875/1875 [==============================] - 56s 30ms/step - loss: 0.0419 - accuracy: 0.9841\n",
      "Epoch 19/50\n",
      "1875/1875 [==============================] - 56s 30ms/step - loss: 0.0399 - accuracy: 0.9848\n",
      "Epoch 20/50\n",
      "1875/1875 [==============================] - 58s 31ms/step - loss: 0.0365 - accuracy: 0.9865\n",
      "Epoch 21/50\n",
      "1875/1875 [==============================] - 75s 40ms/step - loss: 0.0337 - accuracy: 0.9873\n",
      "Epoch 22/50\n",
      "1875/1875 [==============================] - 84s 45ms/step - loss: 0.0333 - accuracy: 0.9879\n",
      "Epoch 23/50\n",
      "1875/1875 [==============================] - 66s 35ms/step - loss: 0.0329 - accuracy: 0.9881\n",
      "Epoch 24/50\n",
      "1875/1875 [==============================] - 66s 35ms/step - loss: 0.0294 - accuracy: 0.9894\n",
      "Epoch 25/50\n",
      "1875/1875 [==============================] - 66s 35ms/step - loss: 0.0301 - accuracy: 0.9894\n",
      "Epoch 26/50\n",
      "1875/1875 [==============================] - 66s 35ms/step - loss: 0.0286 - accuracy: 0.9898\n",
      "Epoch 27/50\n",
      "1875/1875 [==============================] - 66s 35ms/step - loss: 0.0247 - accuracy: 0.9913\n",
      "Epoch 28/50\n",
      "1875/1875 [==============================] - 67s 35ms/step - loss: 0.0277 - accuracy: 0.9907\n",
      "Epoch 29/50\n",
      "1875/1875 [==============================] - 66s 35ms/step - loss: 0.0251 - accuracy: 0.9913\n",
      "Epoch 30/50\n",
      "1875/1875 [==============================] - 67s 35ms/step - loss: 0.0233 - accuracy: 0.9916\n",
      "Epoch 31/50\n",
      "1875/1875 [==============================] - 66s 35ms/step - loss: 0.0234 - accuracy: 0.9920\n",
      "Epoch 32/50\n",
      "1875/1875 [==============================] - 66s 35ms/step - loss: 0.0260 - accuracy: 0.9911\n",
      "Epoch 33/50\n",
      "1875/1875 [==============================] - 66s 35ms/step - loss: 0.0214 - accuracy: 0.9926\n",
      "Epoch 34/50\n",
      "1875/1875 [==============================] - 67s 36ms/step - loss: 0.0254 - accuracy: 0.9913\n",
      "Epoch 35/50\n",
      "1875/1875 [==============================] - 67s 36ms/step - loss: 0.0185 - accuracy: 0.9934\n",
      "Epoch 36/50\n",
      "1875/1875 [==============================] - 62s 33ms/step - loss: 0.0215 - accuracy: 0.9926\n",
      "Epoch 37/50\n",
      "1875/1875 [==============================] - 55s 29ms/step - loss: 0.0239 - accuracy: 0.9918\n",
      "Epoch 38/50\n",
      "1875/1875 [==============================] - 55s 29ms/step - loss: 0.0194 - accuracy: 0.9933\n",
      "Epoch 39/50\n",
      "1875/1875 [==============================] - 55s 29ms/step - loss: 0.0198 - accuracy: 0.9934\n",
      "Epoch 40/50\n",
      "1875/1875 [==============================] - 55s 29ms/step - loss: 0.0215 - accuracy: 0.9926\n",
      "Epoch 41/50\n",
      "1875/1875 [==============================] - 55s 29ms/step - loss: 0.0219 - accuracy: 0.9926\n",
      "Epoch 42/50\n",
      "1875/1875 [==============================] - 55s 29ms/step - loss: 0.0188 - accuracy: 0.9942\n",
      "Epoch 43/50\n",
      "1875/1875 [==============================] - 55s 29ms/step - loss: 0.0221 - accuracy: 0.9929\n",
      "Epoch 44/50\n",
      "1875/1875 [==============================] - 58s 31ms/step - loss: 0.0187 - accuracy: 0.9939\n",
      "Epoch 45/50\n",
      "1875/1875 [==============================] - 55s 29ms/step - loss: 0.0211 - accuracy: 0.9936\n",
      "Epoch 46/50\n",
      "1875/1875 [==============================] - 55s 29ms/step - loss: 0.0169 - accuracy: 0.9943\n",
      "Epoch 47/50\n",
      "1875/1875 [==============================] - 55s 29ms/step - loss: 0.0164 - accuracy: 0.9944\n",
      "Epoch 48/50\n",
      "1875/1875 [==============================] - 55s 29ms/step - loss: 0.0181 - accuracy: 0.9941\n",
      "Epoch 49/50\n",
      "1875/1875 [==============================] - 55s 29ms/step - loss: 0.0195 - accuracy: 0.9932\n",
      "Epoch 50/50\n",
      "1875/1875 [==============================] - 55s 29ms/step - loss: 0.0161 - accuracy: 0.9948\n"
     ]
    },
    {
     "data": {
      "text/plain": [
       "<keras.callbacks.History at 0x7f6c2eb53b80>"
      ]
     },
     "execution_count": 16,
     "metadata": {},
     "output_type": "execute_result"
    }
   ],
   "source": [
    "# train the model\n",
    "model.fit(training_images, training_labels, epochs=50)"
   ]
  },
  {
   "cell_type": "code",
   "execution_count": 17,
   "id": "736eab2e",
   "metadata": {},
   "outputs": [
    {
     "name": "stdout",
     "output_type": "stream",
     "text": [
      "313/313 [==============================] - 3s 10ms/step - loss: 1.0162 - accuracy: 0.9104\n"
     ]
    },
    {
     "data": {
      "text/plain": [
       "[1.0161986351013184, 0.9103999733924866]"
      ]
     },
     "execution_count": 17,
     "metadata": {},
     "output_type": "execute_result"
    }
   ],
   "source": [
    "# evaluate the model\n",
    "model.evaluate(test_images, test_labels)"
   ]
  },
  {
   "cell_type": "code",
   "execution_count": 18,
   "id": "a269bfb2",
   "metadata": {},
   "outputs": [
    {
     "name": "stdout",
     "output_type": "stream",
     "text": [
      "[8.0147248e-36 3.1814495e-38 6.7696950e-31 0.0000000e+00 3.2649021e-33\n",
      " 3.6003801e-24 0.0000000e+00 2.1073998e-26 0.0000000e+00 1.0000000e+00]\n",
      "9\n"
     ]
    }
   ],
   "source": [
    "classifications = model.predict(test_images)\n",
    "print(classifications[0])\n",
    "print(test_labels[0])"
   ]
  },
  {
   "cell_type": "code",
   "execution_count": 19,
   "id": "0f230516",
   "metadata": {},
   "outputs": [
    {
     "name": "stdout",
     "output_type": "stream",
     "text": [
      "Model: \"sequential\"\n",
      "_________________________________________________________________\n",
      " Layer (type)                Output Shape              Param #   \n",
      "=================================================================\n",
      " conv2d (Conv2D)             (None, 26, 26, 64)        640       \n",
      "                                                                 \n",
      " max_pooling2d (MaxPooling2D  (None, 13, 13, 64)       0         \n",
      " )                                                               \n",
      "                                                                 \n",
      " conv2d_1 (Conv2D)           (None, 11, 11, 64)        36928     \n",
      "                                                                 \n",
      " max_pooling2d_1 (MaxPooling  (None, 5, 5, 64)         0         \n",
      " 2D)                                                             \n",
      "                                                                 \n",
      " flatten (Flatten)           (None, 1600)              0         \n",
      "                                                                 \n",
      " dense (Dense)               (None, 128)               204928    \n",
      "                                                                 \n",
      " dense_1 (Dense)             (None, 10)                1290      \n",
      "                                                                 \n",
      "=================================================================\n",
      "Total params: 243,786\n",
      "Trainable params: 243,786\n",
      "Non-trainable params: 0\n",
      "_________________________________________________________________\n"
     ]
    }
   ],
   "source": [
    "model.summary()"
   ]
  },
  {
   "cell_type": "code",
   "execution_count": null,
   "id": "128c7821",
   "metadata": {},
   "outputs": [],
   "source": []
  }
 ],
 "metadata": {
  "kernelspec": {
   "display_name": "Python 3 (ipykernel)",
   "language": "python",
   "name": "python3"
  },
  "language_info": {
   "codemirror_mode": {
    "name": "ipython",
    "version": 3
   },
   "file_extension": ".py",
   "mimetype": "text/x-python",
   "name": "python",
   "nbconvert_exporter": "python",
   "pygments_lexer": "ipython3",
   "version": "3.8.10"
  }
 },
 "nbformat": 4,
 "nbformat_minor": 5
}
